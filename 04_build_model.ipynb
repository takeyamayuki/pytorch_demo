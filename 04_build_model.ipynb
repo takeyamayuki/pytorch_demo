{
 "cells": [
  {
   "cell_type": "code",
   "execution_count": 2,
   "metadata": {},
   "outputs": [],
   "source": [
    "%matplotlib inline"
   ]
  },
  {
   "cell_type": "code",
   "execution_count": 3,
   "metadata": {},
   "outputs": [],
   "source": [
    "import os\n",
    "import torch\n",
    "from torch import nn\n",
    "from torch.utils.data import DataLoader\n",
    "from torchvision import datasets, transforms"
   ]
  },
  {
   "cell_type": "code",
   "execution_count": 4,
   "metadata": {},
   "outputs": [
    {
     "name": "stdout",
     "output_type": "stream",
     "text": [
      "Using cuda device\n"
     ]
    }
   ],
   "source": [
    "device='cuda' if torch.cuda.is_available() else 'cpu'\n",
    "print('Using {} device'.format(device))"
   ]
  },
  {
   "cell_type": "code",
   "execution_count": 8,
   "metadata": {},
   "outputs": [],
   "source": [
    "class NeuralNetwork(nn.Module):\n",
    "    def __init__(self):\n",
    "        super(NeuralNetwork, self).__init__()\n",
    "        self.flatten = nn.Flatten()\n",
    "        self.linear_relu_stack = nn.Sequential(\n",
    "            nn.Linear(28*28, 512),\n",
    "            nn.ReLU(),\n",
    "            nn.Linear(512, 512),\n",
    "            nn.ReLU(),\n",
    "            nn.Linear(512, 10),\n",
    "            nn.ReLU()\n",
    "        )\n",
    "\n",
    "    def forward(self, x):\n",
    "        x = self.flatten(x)\n",
    "        logits = self.linear_relu_stack(x)\n",
    "        return logits"
   ]
  },
  {
   "cell_type": "markdown",
   "metadata": {},
   "source": [
    "メソッド`def forward`で、順伝搬関数を定義。\n",
    "順伝搬とは、入力がNNに与えられ、それが順々に出力側に伝わっていき、最終的に損失関数の値まで計算が終わるまでの処理のこと。\n",
    "今回は、ReLUとLinearを使って、順伝搬を定義している。\n",
    "\n",
    "（C++クラスとの違い：pythonのクラスでのメンバ関数は、selfをつける。クラスの実装と定義を同じところに書く。）"
   ]
  },
  {
   "cell_type": "code",
   "execution_count": 9,
   "metadata": {},
   "outputs": [
    {
     "name": "stdout",
     "output_type": "stream",
     "text": [
      "NeuralNetwork(\n",
      "  (flatten): Flatten(start_dim=1, end_dim=-1)\n",
      "  (linear_relu_stack): Sequential(\n",
      "    (0): Linear(in_features=784, out_features=512, bias=True)\n",
      "    (1): ReLU()\n",
      "    (2): Linear(in_features=512, out_features=512, bias=True)\n",
      "    (3): ReLU()\n",
      "    (4): Linear(in_features=512, out_features=10, bias=True)\n",
      "    (5): ReLU()\n",
      "  )\n",
      ")\n"
     ]
    }
   ],
   "source": [
    "model = NeuralNetwork().to(device)\n",
    "print(model)"
   ]
  },
  {
   "cell_type": "markdown",
   "metadata": {},
   "source": [
    "上記の書き方で、インスタンス生成とともに`forward`関数と、`background operations`が実行される。\n",
    "model.forward() と記載して入力データを処理してはいけない。"
   ]
  },
  {
   "cell_type": "code",
   "execution_count": 10,
   "metadata": {},
   "outputs": [
    {
     "name": "stdout",
     "output_type": "stream",
     "text": [
      "Predicted class: tensor([6], device='cuda:0')\n"
     ]
    }
   ],
   "source": [
    "X = torch.rand(1, 28, 28, device=device)\n",
    "logits = model(X)\n",
    "pred_probab = nn.Softmax(dim=1)(logits)\n",
    "y_pred = pred_probab.argmax(1)\n",
    "print(f\"Predicted class: {y_pred}\")"
   ]
  },
  {
   "cell_type": "code",
   "execution_count": 11,
   "metadata": {},
   "outputs": [
    {
     "name": "stdout",
     "output_type": "stream",
     "text": [
      "torch.Size([3, 28, 28])\n"
     ]
    }
   ],
   "source": [
    "input_image=torch.rand(3,28,28)\n",
    "print(input_image.size())"
   ]
  },
  {
   "cell_type": "code",
   "execution_count": 12,
   "metadata": {},
   "outputs": [
    {
     "name": "stdout",
     "output_type": "stream",
     "text": [
      "torch.Size([3, 784])\n"
     ]
    }
   ],
   "source": [
    "flatten=nn.Flatten()\n",
    "flat_image=flatten(input_image)\n",
    "print(flat_image.size())"
   ]
  },
  {
   "cell_type": "code",
   "execution_count": 13,
   "metadata": {},
   "outputs": [
    {
     "name": "stdout",
     "output_type": "stream",
     "text": [
      "torch.Size([3, 20])\n"
     ]
    }
   ],
   "source": [
    "layer1=nn.Linear(in_features=28*28,out_features=20)\n",
    "hidden1=layer1(flat_image)\n",
    "print(hidden1.size())"
   ]
  },
  {
   "cell_type": "code",
   "execution_count": 14,
   "metadata": {},
   "outputs": [
    {
     "name": "stdout",
     "output_type": "stream",
     "text": [
      "Before ReLU: tensor([[ 0.1062, -0.0169, -0.2178, -0.4964,  0.0599, -0.2101, -0.1504,  0.3836,\n",
      "         -0.2225, -0.2292,  0.3008,  0.0833,  0.5381,  0.5745, -0.1209, -0.2586,\n",
      "         -0.1066,  0.0212, -0.2878,  0.4242],\n",
      "        [ 0.7256,  0.1190, -0.1122, -0.2732,  0.0113, -0.0875, -0.0295,  0.2944,\n",
      "         -0.1005, -0.2368,  0.5143,  0.0534,  0.2888,  0.7463,  0.1955, -0.2537,\n",
      "         -0.0198, -0.1749, -0.1517,  0.2248],\n",
      "        [ 0.3957,  0.2007, -0.3092,  0.0224,  0.3634, -0.3240, -0.3371,  0.2144,\n",
      "         -0.3633, -0.0826,  0.1160, -0.1426,  0.5254,  0.0460, -0.1316, -0.0632,\n",
      "          0.0734, -0.2812, -0.1032,  0.4298]], grad_fn=<AddmmBackward0>)\n",
      "\n",
      "\n",
      "After ReLU: tensor([[0.1062, 0.0000, 0.0000, 0.0000, 0.0599, 0.0000, 0.0000, 0.3836, 0.0000,\n",
      "         0.0000, 0.3008, 0.0833, 0.5381, 0.5745, 0.0000, 0.0000, 0.0000, 0.0212,\n",
      "         0.0000, 0.4242],\n",
      "        [0.7256, 0.1190, 0.0000, 0.0000, 0.0113, 0.0000, 0.0000, 0.2944, 0.0000,\n",
      "         0.0000, 0.5143, 0.0534, 0.2888, 0.7463, 0.1955, 0.0000, 0.0000, 0.0000,\n",
      "         0.0000, 0.2248],\n",
      "        [0.3957, 0.2007, 0.0000, 0.0224, 0.3634, 0.0000, 0.0000, 0.2144, 0.0000,\n",
      "         0.0000, 0.1160, 0.0000, 0.5254, 0.0460, 0.0000, 0.0000, 0.0734, 0.0000,\n",
      "         0.0000, 0.4298]], grad_fn=<ReluBackward0>)\n"
     ]
    }
   ],
   "source": [
    "print(f\"Before ReLU: {hidden1}\\n\\n\")\n",
    "hidden1=nn.ReLU()(hidden1)\n",
    "print(f\"After ReLU: {hidden1}\")"
   ]
  },
  {
   "cell_type": "markdown",
   "metadata": {},
   "source": [
    "ReLU: 非線形活性化関数の１つ。入力が0以下の場合は0を出力し、0より大きい場合はそのまま出力する。\n",
    "nn.ReLU()(hidden1)で、インスタンス化したReLUをhidden1に適用している。"
   ]
  },
  {
   "cell_type": "code",
   "execution_count": 15,
   "metadata": {},
   "outputs": [],
   "source": [
    "seq_modules=nn.Sequential(\n",
    "    flatten,\n",
    "    layer1,\n",
    "    nn.ReLU(),\n",
    "    nn.Linear(20,10)\n",
    ")\n",
    "input_image=torch.rand(3,28,28)\n",
    "logits=seq_modules(input_image)"
   ]
  },
  {
   "cell_type": "code",
   "execution_count": 16,
   "metadata": {},
   "outputs": [],
   "source": [
    "softmax=nn.Softmax(dim=1)\n",
    "pred_probab=softmax(logits)"
   ]
  },
  {
   "cell_type": "code",
   "execution_count": 17,
   "metadata": {},
   "outputs": [
    {
     "name": "stdout",
     "output_type": "stream",
     "text": [
      "Model structure:  NeuralNetwork(\n",
      "  (flatten): Flatten(start_dim=1, end_dim=-1)\n",
      "  (linear_relu_stack): Sequential(\n",
      "    (0): Linear(in_features=784, out_features=512, bias=True)\n",
      "    (1): ReLU()\n",
      "    (2): Linear(in_features=512, out_features=512, bias=True)\n",
      "    (3): ReLU()\n",
      "    (4): Linear(in_features=512, out_features=10, bias=True)\n",
      "    (5): ReLU()\n",
      "  )\n",
      ") \n",
      "\n",
      "\n",
      "Layer: linear_relu_stack.0.weight | Size: torch.Size([512, 784]) | Values: tensor([[-0.0127, -0.0260, -0.0065,  ...,  0.0050, -0.0170,  0.0348],\n",
      "        [-0.0020, -0.0173, -0.0017,  ...,  0.0270,  0.0068, -0.0053]],\n",
      "       device='cuda:0', grad_fn=<SliceBackward0>) \n",
      "\n",
      "Layer: linear_relu_stack.0.bias | Size: torch.Size([512]) | Values: tensor([0.0172, 0.0026], device='cuda:0', grad_fn=<SliceBackward0>) \n",
      "\n",
      "Layer: linear_relu_stack.2.weight | Size: torch.Size([512, 512]) | Values: tensor([[-0.0295,  0.0224,  0.0007,  ..., -0.0009, -0.0265, -0.0312],\n",
      "        [ 0.0036,  0.0311,  0.0248,  ...,  0.0442,  0.0020,  0.0059]],\n",
      "       device='cuda:0', grad_fn=<SliceBackward0>) \n",
      "\n",
      "Layer: linear_relu_stack.2.bias | Size: torch.Size([512]) | Values: tensor([-0.0096,  0.0389], device='cuda:0', grad_fn=<SliceBackward0>) \n",
      "\n",
      "Layer: linear_relu_stack.4.weight | Size: torch.Size([10, 512]) | Values: tensor([[ 0.0042, -0.0034,  0.0397,  ...,  0.0242, -0.0378,  0.0229],\n",
      "        [ 0.0016, -0.0345, -0.0365,  ..., -0.0141,  0.0015,  0.0011]],\n",
      "       device='cuda:0', grad_fn=<SliceBackward0>) \n",
      "\n",
      "Layer: linear_relu_stack.4.bias | Size: torch.Size([10]) | Values: tensor([ 0.0155, -0.0262], device='cuda:0', grad_fn=<SliceBackward0>) \n",
      "\n"
     ]
    }
   ],
   "source": [
    "print(\"Model structure: \", model, \"\\n\\n\")\n",
    "\n",
    "for name, param in model.named_parameters():\n",
    "    print(f\"Layer: {name} | Size: {param.size()} | Values: {param[:2]} \\n\")"
   ]
  }
 ],
 "metadata": {
  "kernelspec": {
   "display_name": "Python 3.9.0 64-bit ('3.9.0')",
   "language": "python",
   "name": "python3"
  },
  "language_info": {
   "codemirror_mode": {
    "name": "ipython",
    "version": 3
   },
   "file_extension": ".py",
   "mimetype": "text/x-python",
   "name": "python",
   "nbconvert_exporter": "python",
   "pygments_lexer": "ipython3",
   "version": "3.9.0"
  },
  "orig_nbformat": 4,
  "vscode": {
   "interpreter": {
    "hash": "a7560b51a5508f04431098b00f0d750ef968baa3d2470a65b39ffa3aaac2ab46"
   }
  }
 },
 "nbformat": 4,
 "nbformat_minor": 2
}
