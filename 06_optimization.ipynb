{
 "cells": [
  {
   "cell_type": "markdown",
   "metadata": {},
   "source": [
    "# 最適化\n",
    "\n",
    "モデルとデータを用意したので、モデルを訓練・検証することで、モデルのパラメータの最適化を行っていく。\n",
    "各エポックでモデル出力を計算し、損失を求める。そして、各パラメータについて損失に対する偏微分値を求める。そのあと、勾配降下法に基づいてパラメータを最適化する。"
   ]
  },
  {
   "cell_type": "code",
   "execution_count": 1,
   "metadata": {},
   "outputs": [],
   "source": [
    "%matplotlib inline\n"
   ]
  },
  {
   "cell_type": "code",
   "execution_count": 2,
   "metadata": {},
   "outputs": [
    {
     "name": "stdout",
     "output_type": "stream",
     "text": [
      "Downloading http://fashion-mnist.s3-website.eu-central-1.amazonaws.com/train-images-idx3-ubyte.gz\n",
      "Downloading http://fashion-mnist.s3-website.eu-central-1.amazonaws.com/train-images-idx3-ubyte.gz to data/FashionMNIST/raw/train-images-idx3-ubyte.gz\n"
     ]
    },
    {
     "name": "stderr",
     "output_type": "stream",
     "text": [
      "100.0%\n"
     ]
    },
    {
     "name": "stdout",
     "output_type": "stream",
     "text": [
      "Extracting data/FashionMNIST/raw/train-images-idx3-ubyte.gz to data/FashionMNIST/raw\n",
      "\n",
      "Downloading http://fashion-mnist.s3-website.eu-central-1.amazonaws.com/train-labels-idx1-ubyte.gz\n",
      "Downloading http://fashion-mnist.s3-website.eu-central-1.amazonaws.com/train-labels-idx1-ubyte.gz to data/FashionMNIST/raw/train-labels-idx1-ubyte.gz\n"
     ]
    },
    {
     "name": "stderr",
     "output_type": "stream",
     "text": [
      "100.0%\n"
     ]
    },
    {
     "name": "stdout",
     "output_type": "stream",
     "text": [
      "Extracting data/FashionMNIST/raw/train-labels-idx1-ubyte.gz to data/FashionMNIST/raw\n",
      "\n",
      "Downloading http://fashion-mnist.s3-website.eu-central-1.amazonaws.com/t10k-images-idx3-ubyte.gz\n",
      "Downloading http://fashion-mnist.s3-website.eu-central-1.amazonaws.com/t10k-images-idx3-ubyte.gz to data/FashionMNIST/raw/t10k-images-idx3-ubyte.gz\n"
     ]
    },
    {
     "name": "stderr",
     "output_type": "stream",
     "text": [
      "100.0%\n"
     ]
    },
    {
     "name": "stdout",
     "output_type": "stream",
     "text": [
      "Extracting data/FashionMNIST/raw/t10k-images-idx3-ubyte.gz to data/FashionMNIST/raw\n",
      "\n",
      "Downloading http://fashion-mnist.s3-website.eu-central-1.amazonaws.com/t10k-labels-idx1-ubyte.gz\n",
      "Downloading http://fashion-mnist.s3-website.eu-central-1.amazonaws.com/t10k-labels-idx1-ubyte.gz to data/FashionMNIST/raw/t10k-labels-idx1-ubyte.gz\n"
     ]
    },
    {
     "name": "stderr",
     "output_type": "stream",
     "text": [
      "100.0%"
     ]
    },
    {
     "name": "stdout",
     "output_type": "stream",
     "text": [
      "Extracting data/FashionMNIST/raw/t10k-labels-idx1-ubyte.gz to data/FashionMNIST/raw\n",
      "\n"
     ]
    },
    {
     "name": "stderr",
     "output_type": "stream",
     "text": [
      "\n"
     ]
    }
   ],
   "source": [
    "import torch\n",
    "from torch import nn\n",
    "from torch.utils.data import DataLoader\n",
    "from torchvision import datasets\n",
    "from torchvision.transforms import ToTensor, Lambda\n",
    "\n",
    "training_data = datasets.FashionMNIST(\n",
    "    root=\"data\",\n",
    "    train=True,\n",
    "    download=True,\n",
    "    transform=ToTensor()\n",
    ")\n",
    "\n",
    "test_data = datasets.FashionMNIST(\n",
    "    root=\"data\",\n",
    "    train=False,\n",
    "    download=True,\n",
    "    transform=ToTensor()\n",
    ")\n",
    "\n",
    "train_dataloader = DataLoader(training_data, batch_size=64)\n",
    "test_dataloader = DataLoader(test_data, batch_size=64)\n",
    "\n",
    "\n",
    "class NeuralNetwork(nn.Module):\n",
    "    def __init__(self):\n",
    "        super(NeuralNetwork, self).__init__()\n",
    "        self.flatten = nn.Flatten()\n",
    "        self.linear_relu_stack = nn.Sequential(\n",
    "            nn.Linear(28*28, 512),\n",
    "            nn.ReLU(),\n",
    "            nn.Linear(512, 512),\n",
    "            nn.ReLU(),\n",
    "            nn.Linear(512, 10),\n",
    "            nn.ReLU()\n",
    "        )\n",
    "\n",
    "    def forward(self, x):\n",
    "        x = self.flatten(x)\n",
    "        logits = self.linear_relu_stack(x)\n",
    "        return logits\n",
    "\n",
    "\n",
    "model = NeuralNetwork()\n"
   ]
  },
  {
   "cell_type": "markdown",
   "metadata": {},
   "source": [
    "モデルの最適化プロセスを制御するためのパラメータであるハイパーパラメータを設定する。"
   ]
  },
  {
   "cell_type": "code",
   "execution_count": 3,
   "metadata": {},
   "outputs": [],
   "source": [
    "learning_rate = 1e-3\n",
    "batch_size = 64\n",
    "epochs = 5\n"
   ]
  },
  {
   "cell_type": "markdown",
   "metadata": {},
   "source": [
    "ハイパーパラメータ設定後、訓練で最適化のループを回すことでモデルを最適化する。\n",
    "最適化ループの１回のイテレーションをエポックという。"
   ]
  },
  {
   "cell_type": "code",
   "execution_count": 9,
   "metadata": {},
   "outputs": [],
   "source": [
    "def train_loop(dataloader, model, loss_fn, optimizer):\n",
    "    size = len(dataloader.dataset)\n",
    "    for batch, (X, y) in enumerate(dataloader):\n",
    "        # 予測と損失の計算\n",
    "        pred = model(X)\n",
    "        loss = loss_fn(pred, y)\n",
    "\n",
    "        # バックプロパゲーション\n",
    "        optimizer.zero_grad()\n",
    "        loss.backward()\n",
    "        optimizer.step()\n",
    "\n",
    "        if batch % 100 == 0:\n",
    "            loss, current = loss.item(), batch * len(X)\n",
    "            print(f\"loss: {loss:>7f} [{current:>5d}/{size:>5d}]\")\n",
    "\n",
    "\n",
    "def test_loop(dataloader, model, loss_fn):\n",
    "    size = len(dataloader.dataset)\n",
    "    test_loss, correct = 0, 0\n",
    "\n",
    "    with torch.no_grad():\n",
    "        for X, y in dataloader:\n",
    "            pred = model(X)\n",
    "            test_loss += loss_fn(pred, y).item()\n",
    "            correct += (pred.argmax(1) == y).type(torch.float).sum().item()\n",
    "\n",
    "    test_loss /= size\n",
    "    correct /= size\n",
    "    print(\n",
    "        f\"Test Error: \\n Accuracy: {(100*correct):>0.1f}%, Avg loss: {test_loss:>8f} \\n\")\n"
   ]
  },
  {
   "cell_type": "code",
   "execution_count": 10,
   "metadata": {},
   "outputs": [
    {
     "name": "stdout",
     "output_type": "stream",
     "text": [
      "Epoch 1\n",
      "-------------------\n",
      "loss: 2.299215 [    0/60000]\n",
      "loss: 2.289661 [ 6400/60000]\n",
      "loss: 2.273258 [12800/60000]\n",
      "loss: 2.271304 [19200/60000]\n",
      "loss: 2.261314 [25600/60000]\n",
      "loss: 2.238326 [32000/60000]\n",
      "loss: 2.233199 [38400/60000]\n",
      "loss: 2.209578 [44800/60000]\n",
      "loss: 2.211697 [51200/60000]\n",
      "loss: 2.185404 [57600/60000]\n",
      "Test Error: \n",
      " Accuracy: 53.7%, Avg loss: 0.034351 \n",
      "\n",
      "Epoch 2\n",
      "-------------------\n",
      "loss: 2.193689 [    0/60000]\n",
      "loss: 2.188533 [ 6400/60000]\n",
      "loss: 2.141954 [12800/60000]\n",
      "loss: 2.155356 [19200/60000]\n",
      "loss: 2.124851 [25600/60000]\n",
      "loss: 2.081151 [32000/60000]\n",
      "loss: 2.083030 [38400/60000]\n",
      "loss: 2.028974 [44800/60000]\n",
      "loss: 2.049610 [51200/60000]\n",
      "loss: 1.979372 [57600/60000]\n",
      "Test Error: \n",
      " Accuracy: 59.1%, Avg loss: 0.031257 \n",
      "\n",
      "Epoch 3\n",
      "-------------------\n",
      "loss: 2.016432 [    0/60000]\n",
      "loss: 1.998917 [ 6400/60000]\n",
      "loss: 1.898500 [12800/60000]\n",
      "loss: 1.931816 [19200/60000]\n",
      "loss: 1.864282 [25600/60000]\n",
      "loss: 1.795183 [32000/60000]\n",
      "loss: 1.802856 [38400/60000]\n",
      "loss: 1.708933 [44800/60000]\n",
      "loss: 1.757122 [51200/60000]\n",
      "loss: 1.636034 [57600/60000]\n",
      "Test Error: \n",
      " Accuracy: 60.4%, Avg loss: 0.026049 \n",
      "\n",
      "Epoch 4\n",
      "-------------------\n",
      "loss: 1.718658 [    0/60000]\n",
      "loss: 1.687732 [ 6400/60000]\n",
      "loss: 1.532561 [12800/60000]\n",
      "loss: 1.599189 [19200/60000]\n",
      "loss: 1.509358 [25600/60000]\n",
      "loss: 1.456166 [32000/60000]\n",
      "loss: 1.465376 [38400/60000]\n",
      "loss: 1.368688 [44800/60000]\n",
      "loss: 1.438340 [51200/60000]\n",
      "loss: 1.308607 [57600/60000]\n",
      "Test Error: \n",
      " Accuracy: 63.1%, Avg loss: 0.021071 \n",
      "\n",
      "Epoch 5\n",
      "-------------------\n",
      "loss: 1.419737 [    0/60000]\n",
      "loss: 1.401451 [ 6400/60000]\n",
      "loss: 1.221624 [12800/60000]\n",
      "loss: 1.326270 [19200/60000]\n",
      "loss: 1.219025 [25600/60000]\n",
      "loss: 1.210019 [32000/60000]\n",
      "loss: 1.224003 [38400/60000]\n",
      "loss: 1.140923 [44800/60000]\n",
      "loss: 1.212237 [51200/60000]\n",
      "loss: 1.107643 [57600/60000]\n",
      "Test Error: \n",
      " Accuracy: 64.4%, Avg loss: 0.017812 \n",
      "\n",
      "Epoch 6\n",
      "-------------------\n",
      "loss: 1.205619 [    0/60000]\n",
      "loss: 1.213113 [ 6400/60000]\n",
      "loss: 1.018281 [12800/60000]\n",
      "loss: 1.157039 [19200/60000]\n",
      "loss: 1.035516 [25600/60000]\n",
      "loss: 1.053775 [32000/60000]\n",
      "loss: 1.083158 [38400/60000]\n",
      "loss: 1.006063 [44800/60000]\n",
      "loss: 1.075544 [51200/60000]\n",
      "loss: 0.992010 [57600/60000]\n",
      "Test Error: \n",
      " Accuracy: 65.1%, Avg loss: 0.015850 \n",
      "\n",
      "Epoch 7\n",
      "-------------------\n",
      "loss: 1.068074 [    0/60000]\n",
      "loss: 1.099160 [ 6400/60000]\n",
      "loss: 0.889224 [12800/60000]\n",
      "loss: 1.051053 [19200/60000]\n",
      "loss: 0.928804 [25600/60000]\n",
      "loss: 0.950907 [32000/60000]\n",
      "loss: 0.999099 [38400/60000]\n",
      "loss: 0.924802 [44800/60000]\n",
      "loss: 0.988196 [51200/60000]\n",
      "loss: 0.919925 [57600/60000]\n",
      "Test Error: \n",
      " Accuracy: 66.1%, Avg loss: 0.014598 \n",
      "\n",
      "Epoch 8\n",
      "-------------------\n",
      "loss: 0.973771 [    0/60000]\n",
      "loss: 1.025516 [ 6400/60000]\n",
      "loss: 0.802318 [12800/60000]\n",
      "loss: 0.979600 [19200/60000]\n",
      "loss: 0.861823 [25600/60000]\n",
      "loss: 0.878405 [32000/60000]\n",
      "loss: 0.943906 [38400/60000]\n",
      "loss: 0.873520 [44800/60000]\n",
      "loss: 0.927795 [51200/60000]\n",
      "loss: 0.870112 [57600/60000]\n",
      "Test Error: \n",
      " Accuracy: 67.2%, Avg loss: 0.013737 \n",
      "\n",
      "Epoch 9\n",
      "-------------------\n",
      "loss: 0.904444 [    0/60000]\n",
      "loss: 0.972814 [ 6400/60000]\n",
      "loss: 0.740198 [12800/60000]\n",
      "loss: 0.927681 [19200/60000]\n",
      "loss: 0.816122 [25600/60000]\n",
      "loss: 0.824462 [32000/60000]\n",
      "loss: 0.903270 [38400/60000]\n",
      "loss: 0.839236 [44800/60000]\n",
      "loss: 0.883632 [51200/60000]\n",
      "loss: 0.832637 [57600/60000]\n",
      "Test Error: \n",
      " Accuracy: 68.2%, Avg loss: 0.013100 \n",
      "\n",
      "Epoch 10\n",
      "-------------------\n",
      "loss: 0.850528 [    0/60000]\n",
      "loss: 0.931344 [ 6400/60000]\n",
      "loss: 0.693214 [12800/60000]\n",
      "loss: 0.888231 [19200/60000]\n",
      "loss: 0.782428 [25600/60000]\n",
      "loss: 0.782835 [32000/60000]\n",
      "loss: 0.870781 [38400/60000]\n",
      "loss: 0.814767 [44800/60000]\n",
      "loss: 0.849554 [51200/60000]\n",
      "loss: 0.802671 [57600/60000]\n",
      "Test Error: \n",
      " Accuracy: 69.2%, Avg loss: 0.012602 \n",
      "\n",
      "Done!\n"
     ]
    }
   ],
   "source": [
    "loss_fn = nn.CrossEntropyLoss()\n",
    "optimizer = torch.optim.SGD(model.parameters(), lr=learning_rate)\n",
    "\n",
    "epochs = 10\n",
    "for t in range(epochs):\n",
    "    print(f\"Epoch {t+1}\\n-------------------\")\n",
    "    train_loop(train_dataloader, model, loss_fn, optimizer)\n",
    "    test_loop(test_dataloader, model, loss_fn)\n",
    "print(\"Done!\")"
   ]
  }
 ],
 "metadata": {
  "kernelspec": {
   "display_name": "Python 3.8.6 64-bit ('3.8.6')",
   "language": "python",
   "name": "python3"
  },
  "language_info": {
   "codemirror_mode": {
    "name": "ipython",
    "version": 3
   },
   "file_extension": ".py",
   "mimetype": "text/x-python",
   "name": "python",
   "nbconvert_exporter": "python",
   "pygments_lexer": "ipython3",
   "version": "3.8.6"
  },
  "orig_nbformat": 4,
  "vscode": {
   "interpreter": {
    "hash": "c51d27b5093077bfad54762e2201752c7da265845b1e1863166083785045f503"
   }
  }
 },
 "nbformat": 4,
 "nbformat_minor": 2
}
